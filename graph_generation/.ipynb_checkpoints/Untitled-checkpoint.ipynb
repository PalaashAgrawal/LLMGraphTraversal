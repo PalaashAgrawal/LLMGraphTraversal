{
 "cells": [
  {
   "cell_type": "code",
   "execution_count": 9,
   "id": "97d7fc08",
   "metadata": {},
   "outputs": [],
   "source": [
    "%matplotlib inline\n",
    "import warnings\n",
    "warnings.filterwarnings('ignore')\n",
    "from tqdm.notebook import tqdm"
   ]
  },
  {
   "cell_type": "code",
   "execution_count": 2,
   "id": "ca033acf",
   "metadata": {},
   "outputs": [],
   "source": [
    "%load_ext autoreload\n",
    "\n",
    "%autoreload 2"
   ]
  },
  {
   "cell_type": "code",
   "execution_count": 3,
   "id": "21ede08e",
   "metadata": {},
   "outputs": [],
   "source": [
    "import pandas as pd\n",
    "import random"
   ]
  },
  {
   "cell_type": "code",
   "execution_count": 4,
   "id": "f721b5e1",
   "metadata": {},
   "outputs": [],
   "source": [
    "from graph_gen import create_level\n",
    "from llm_evaluation import get_graph_and_solution"
   ]
  },
  {
   "cell_type": "code",
   "execution_count": 29,
   "id": "e06607b0",
   "metadata": {},
   "outputs": [
    {
     "data": {
      "text/html": [
       "<div>\n",
       "<style scoped>\n",
       "    .dataframe tbody tr th:only-of-type {\n",
       "        vertical-align: middle;\n",
       "    }\n",
       "\n",
       "    .dataframe tbody tr th {\n",
       "        vertical-align: top;\n",
       "    }\n",
       "\n",
       "    .dataframe thead th {\n",
       "        text-align: right;\n",
       "    }\n",
       "</style>\n",
       "<table border=\"1\" class=\"dataframe\">\n",
       "  <thead>\n",
       "    <tr style=\"text-align: right;\">\n",
       "      <th></th>\n",
       "      <th>level</th>\n",
       "      <th>order</th>\n",
       "      <th>adjacency_matrix</th>\n",
       "      <th>solution</th>\n",
       "      <th>nodes_to_traverse</th>\n",
       "    </tr>\n",
       "  </thead>\n",
       "  <tbody>\n",
       "    <tr>\n",
       "      <th>0</th>\n",
       "      <td>0</td>\n",
       "      <td>0</td>\n",
       "      <td>0</td>\n",
       "      <td>0</td>\n",
       "      <td>0</td>\n",
       "    </tr>\n",
       "  </tbody>\n",
       "</table>\n",
       "</div>"
      ],
      "text/plain": [
       "  level order adjacency_matrix solution nodes_to_traverse\n",
       "0     0     0                0        0                 0"
      ]
     },
     "execution_count": 29,
     "metadata": {},
     "output_type": "execute_result"
    }
   ],
   "source": [
    "df = pd.DataFrame(columns = [\"level\", \"order\", \"adjacency_matrix\",\"solution\", \"nodes_to_traverse\"])\n",
    "df.append({\"level\": 0, \"order\": 0, \"adjacency_matrix\": 0,\"solution\":0, \"nodes_to_traverse\":0}, ignore_index = True)"
   ]
  },
  {
   "cell_type": "code",
   "execution_count": null,
   "id": "0a7d369a",
   "metadata": {},
   "outputs": [],
   "source": []
  },
  {
   "cell_type": "code",
   "execution_count": 26,
   "id": "55e46228",
   "metadata": {},
   "outputs": [
    {
     "data": {
      "application/vnd.jupyter.widget-view+json": {
       "model_id": "a07e7c58570f48f8b6d420f9674e8788",
       "version_major": 2,
       "version_minor": 0
      },
      "text/plain": [
       "  0%|          | 0/10 [00:00<?, ?it/s]"
      ]
     },
     "metadata": {},
     "output_type": "display_data"
    }
   ],
   "source": [
    "for level in tqdm(range(1,11)): #1 to 10\n",
    "\n",
    "#     O(10)\n",
    "    for _ in range(3):\n",
    "        order = random.randint(5,15)\n",
    "        out, solution, nodes_to_traverse = get_graph_and_solution(order, level, is_jumbled = False)\n",
    "#         print(solution)\n",
    "        \n",
    "#         add_df = pd.DataFrame({\"level\": level, \"order\": order, \"adjacency_matrix\": out,\"solution\":solution, \"nodes_to_traverse\":nodes_to_traverse})\n",
    "#         pd.concat(df, add_df)\n",
    "        df.append({\"level\": level, \"order\": order, \"adjacency_matrix\": out,\"solution\":solution, \"nodes_to_traverse\":nodes_to_traverse}, ignore_index = True)\n",
    "  \n",
    "    \n",
    "    #O(20)\n",
    "#     for _ in range(3):\n",
    "#         order = random.randint(16,25) if not level in [3,4] else random.randint(16,20)\n",
    "#         out, solution, nodes_to_traverse = get_graph_and_solution(order, level, is_jumbled = False)\n",
    "        \n",
    "#         df.append({\"level\": level, \"order\": order, \"adjacency_matrix\": out,\"solution\":solution, \"nodes_to_traverse\":nodes_to_traverse}, ignore_index = True)\n",
    "        \n",
    "#     O(20) jumbled\n",
    "#     for _ in range(3):\n",
    "#         order = random.randint(16,25) if not level in [3,4] else random.randint(16,20)\n",
    "#         out, solution, nodes_to_traverse = get_graph_and_solution(order, level, is_jumbled = True)\n",
    "\n",
    "#         df.append({\"level\": level, \"order\": order, \"adjacency_matrix\": out,\"solution\":solution, \"nodes_to_traverse\":nodes_to_traverse}, ignore_index = True)\n",
    "  \n",
    "    "
   ]
  },
  {
   "cell_type": "code",
   "execution_count": 28,
   "id": "86dbe0ba",
   "metadata": {},
   "outputs": [
    {
     "data": {
      "text/html": [
       "<div>\n",
       "<style scoped>\n",
       "    .dataframe tbody tr th:only-of-type {\n",
       "        vertical-align: middle;\n",
       "    }\n",
       "\n",
       "    .dataframe tbody tr th {\n",
       "        vertical-align: top;\n",
       "    }\n",
       "\n",
       "    .dataframe thead th {\n",
       "        text-align: right;\n",
       "    }\n",
       "</style>\n",
       "<table border=\"1\" class=\"dataframe\">\n",
       "  <thead>\n",
       "    <tr style=\"text-align: right;\">\n",
       "      <th></th>\n",
       "      <th>level</th>\n",
       "      <th>order</th>\n",
       "      <th>adjacency_matrix</th>\n",
       "      <th>solution</th>\n",
       "      <th>nodes_to_traverse</th>\n",
       "    </tr>\n",
       "  </thead>\n",
       "  <tbody>\n",
       "  </tbody>\n",
       "</table>\n",
       "</div>"
      ],
      "text/plain": [
       "Empty DataFrame\n",
       "Columns: [level, order, adjacency_matrix, solution, nodes_to_traverse]\n",
       "Index: []"
      ]
     },
     "execution_count": 28,
     "metadata": {},
     "output_type": "execute_result"
    }
   ],
   "source": [
    "df"
   ]
  },
  {
   "cell_type": "code",
   "execution_count": null,
   "id": "c17837f3",
   "metadata": {},
   "outputs": [],
   "source": []
  }
 ],
 "metadata": {
  "kernelspec": {
   "display_name": "Python 3 (ipykernel)",
   "language": "python",
   "name": "python3"
  },
  "language_info": {
   "codemirror_mode": {
    "name": "ipython",
    "version": 3
   },
   "file_extension": ".py",
   "mimetype": "text/x-python",
   "name": "python",
   "nbconvert_exporter": "python",
   "pygments_lexer": "ipython3",
   "version": "3.9.13"
  }
 },
 "nbformat": 4,
 "nbformat_minor": 5
}
