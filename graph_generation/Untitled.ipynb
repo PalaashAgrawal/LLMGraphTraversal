{
 "cells": [
  {
   "cell_type": "code",
   "execution_count": 1,
   "id": "7f02161c",
   "metadata": {},
   "outputs": [
    {
     "name": "stdout",
     "output_type": "stream",
     "text": [
      "  A B C D E F\n",
      "A 0 1 0 0 0 0\n",
      "B 1 0 1 0 0 0\n",
      "C 0 1 0 1 0 0\n",
      "D 0 0 1 0 1 0\n",
      "E 0 0 0 1 0 1\n",
      "F 0 0 0 0 1 0\n"
     ]
    },
    {
     "data": {
      "image/png": "[encoded data removed]",
      "text/plain": [
       "<Figure size 640x480 with 1 Axes>"
      ]
     },
     "metadata": {},
     "output_type": "display_data"
    }
   ],
   "source": [
    "import networkx as nx\n",
    "import numpy as np\n",
    "n=6\n",
    "graph = nx.path_graph(n)\n",
    "\n",
    "\n",
    "mapping = {i: chr(65 + i) for i in range(n)}  # 65 is ASCII for 'A'\n",
    "graph = nx.relabel_nodes(graph, mapping)\n",
    "\n",
    "# Draw graph with new labels\n",
    "nx.draw(graph, with_labels=True)\n",
    "\n",
    "# Convert the graph to an adjacency matrix\n",
    "adj_matrix = nx.adjacency_matrix(graph)\n",
    "\n",
    "# Displaying the adjacency matrix with labels\n",
    "adj_array = np.array(adj_matrix.todense())\n",
    "print(\" \", \" \".join(mapping.values()))\n",
    "for row_label, row in zip(mapping.values(), adj_array):\n",
    "    print(row_label, \" \".join(map(str, row)))"
   ]
  },
  {
   "cell_type": "code",
   "execution_count": 6,
   "id": "93b9d784",
   "metadata": {},
   "outputs": [
    {
     "data": {
      "text/plain": [
       "'   A B C D E F\\n A 0 1 0 0 0 0\\n B 1 0 1 0 0 0\\n C 0 1 0 1 0 0\\n D 0 0 1 0 1 0\\n E 0 0 0 1 0 1\\n F 0 0 0 0 1 0'"
      ]
     },
     "execution_count": 6,
     "metadata": {},
     "output_type": "execute_result"
    }
   ],
   "source": [
    "new_line = '\\n'\n",
    "out = f''''''\n",
    "out+= f\"   {' '.join(mapping.values())}\"\n",
    "for row_label, row in zip(mapping.values(), adj_array):\n",
    "    out+=f'''{new_line} {row_label} {' '.join(map(str, row))}'''\n",
    "out"
   ]
  },
  {
   "cell_type": "code",
   "execution_count": 7,
   "id": "008f67cb",
   "metadata": {},
   "outputs": [
    {
     "name": "stdout",
     "output_type": "stream",
     "text": [
      "   A B C D E F\n",
      " A 0 1 0 0 0 0\n",
      " B 1 0 1 0 0 0\n",
      " C 0 1 0 1 0 0\n",
      " D 0 0 1 0 1 0\n",
      " E 0 0 0 1 0 1\n",
      " F 0 0 0 0 1 0\n"
     ]
    }
   ],
   "source": [
    "print(out)"
   ]
  },
  {
   "cell_type": "code",
   "execution_count": 4,
   "id": "1129f0f5",
   "metadata": {},
   "outputs": [],
   "source": [
    "adj_matrix = nx.adjacency_matrix(graph)\n",
    "adj_array = np.array(adj_matrix.todense())"
   ]
  },
  {
   "cell_type": "code",
   "execution_count": 6,
   "id": "3758c3c7",
   "metadata": {},
   "outputs": [
    {
     "data": {
      "text/plain": [
       "array([[0, 1, 0, 0, 0, 0],\n",
       "       [1, 0, 1, 0, 0, 0],\n",
       "       [0, 1, 0, 1, 0, 0],\n",
       "       [0, 0, 1, 0, 1, 0],\n",
       "       [0, 0, 0, 1, 0, 1],\n",
       "       [0, 0, 0, 0, 1, 0]])"
      ]
     },
     "execution_count": 6,
     "metadata": {},
     "output_type": "execute_result"
    }
   ],
   "source": [
    "adj_array"
   ]
  },
  {
   "cell_type": "code",
   "execution_count": 8,
   "id": "a8f20db5",
   "metadata": {},
   "outputs": [
    {
     "data": {
      "text/plain": [
       "['A', 'B', 'C', 'D', 'E', 'F']"
      ]
     },
     "execution_count": 8,
     "metadata": {},
     "output_type": "execute_result"
    }
   ],
   "source": [
    "nx.shortest_path(graph, source='A', target='F', weight=None, method='dijkstra')"
   ]
  }
 ],
 "metadata": {
  "kernelspec": {
   "display_name": "Python 3 (ipykernel)",
   "language": "python",
   "name": "python3"
  },
  "language_info": {
   "codemirror_mode": {
    "name": "ipython",
    "version": 3
   },
   "file_extension": ".py",
   "mimetype": "text/x-python",
   "name": "python",
   "nbconvert_exporter": "python",
   "pygments_lexer": "ipython3",
   "version": "3.9.13"
  }
 },
 "nbformat": 4,
 "nbformat_minor": 5
}
